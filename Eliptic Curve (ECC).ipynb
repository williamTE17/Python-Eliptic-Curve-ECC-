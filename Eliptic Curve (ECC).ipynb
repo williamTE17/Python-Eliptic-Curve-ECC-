{
 "cells": [
  {
   "cell_type": "code",
   "execution_count": 42,
   "metadata": {},
   "outputs": [
    {
     "name": "stdout",
     "output_type": "stream",
     "text": [
      "Enter x: 1\n",
      "Enter y: 1\n",
      "Enter a: 1\n",
      "Enter b: 1\n"
     ]
    }
   ],
   "source": [
    "# math(s)\n",
    "#------------------------------#\n",
    "# ELIPTIC CURVE FUNCTION       #\n",
    "# ~   y2 = (x3 + ax + b)       #\n",
    "x = int(input(\"Enter x: \"));   #\n",
    "y = int(input(\"Enter y: \"));   #\n",
    "a = int(input(\"Enter a: \"));   #\n",
    "b = int(input(\"Enter b: \"));   #\n",
    "x3 = (x*x*x)                   #\n",
    "ax = (a*x)                     #\n",
    "y2 = (x3 + ax + b)             #\n",
    "sqrt=y2**(1/2)                 #\n",
    "minus_sqrt = sqrt=-y2**(1/2)   #\n",
    "#------------------------------#\n",
    "\n",
    "\n",
    "# print(s)\n",
    "#------------------------------#\n",
    "                               #\n",
    "print(\"\\n\"*2)                  #\n",
    "print(\"-\"*65)                  #\n",
    "print(\"x : x3 : y : y2 : ax  : square root of y2: square root of -y2\")\n",
    "print(x,' :',x3,':',y,':',y2,':',ax,':',sqrt,':',minus_sqrt)\n",
    "print(\"-\"*65)                                "
   ]
  },
  {
   "cell_type": "code",
   "execution_count": null,
   "metadata": {},
   "outputs": [],
   "source": []
  },
  {
   "cell_type": "code",
   "execution_count": null,
   "metadata": {},
   "outputs": [],
   "source": []
  }
 ],
 "metadata": {
  "kernelspec": {
   "display_name": "Python 3",
   "language": "python",
   "name": "python3"
  },
  "language_info": {
   "codemirror_mode": {
    "name": "ipython",
    "version": 3
   },
   "file_extension": ".py",
   "mimetype": "text/x-python",
   "name": "python",
   "nbconvert_exporter": "python",
   "pygments_lexer": "ipython3",
   "version": "3.7.3"
  }
 },
 "nbformat": 4,
 "nbformat_minor": 2
}
